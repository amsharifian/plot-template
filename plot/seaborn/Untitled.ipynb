{
 "cells": [
  {
   "cell_type": "code",
   "execution_count": 13,
   "metadata": {},
   "outputs": [
    {
     "name": "stdout",
     "output_type": "stream",
     "text": [
      "     survived  pclass     sex   age  sibsp  parch      fare embarked   class  \\\n",
      "0           0       3    male  22.0      1      0    7.2500        S   Third   \n",
      "1           1       1  female  38.0      1      0   71.2833        C   First   \n",
      "2           1       3  female  26.0      0      0    7.9250        S   Third   \n",
      "3           1       1  female  35.0      1      0   53.1000        S   First   \n",
      "4           0       3    male  35.0      0      0    8.0500        S   Third   \n",
      "5           0       3    male   NaN      0      0    8.4583        Q   Third   \n",
      "6           0       1    male  54.0      0      0   51.8625        S   First   \n",
      "7           0       3    male   2.0      3      1   21.0750        S   Third   \n",
      "8           1       3  female  27.0      0      2   11.1333        S   Third   \n",
      "9           1       2  female  14.0      1      0   30.0708        C  Second   \n",
      "10          1       3  female   4.0      1      1   16.7000        S   Third   \n",
      "11          1       1  female  58.0      0      0   26.5500        S   First   \n",
      "12          0       3    male  20.0      0      0    8.0500        S   Third   \n",
      "13          0       3    male  39.0      1      5   31.2750        S   Third   \n",
      "14          0       3  female  14.0      0      0    7.8542        S   Third   \n",
      "15          1       2  female  55.0      0      0   16.0000        S  Second   \n",
      "16          0       3    male   2.0      4      1   29.1250        Q   Third   \n",
      "17          1       2    male   NaN      0      0   13.0000        S  Second   \n",
      "18          0       3  female  31.0      1      0   18.0000        S   Third   \n",
      "19          1       3  female   NaN      0      0    7.2250        C   Third   \n",
      "20          0       2    male  35.0      0      0   26.0000        S  Second   \n",
      "21          1       2    male  34.0      0      0   13.0000        S  Second   \n",
      "22          1       3  female  15.0      0      0    8.0292        Q   Third   \n",
      "23          1       1    male  28.0      0      0   35.5000        S   First   \n",
      "24          0       3  female   8.0      3      1   21.0750        S   Third   \n",
      "25          1       3  female  38.0      1      5   31.3875        S   Third   \n",
      "26          0       3    male   NaN      0      0    7.2250        C   Third   \n",
      "27          0       1    male  19.0      3      2  263.0000        S   First   \n",
      "28          1       3  female   NaN      0      0    7.8792        Q   Third   \n",
      "29          0       3    male   NaN      0      0    7.8958        S   Third   \n",
      "..        ...     ...     ...   ...    ...    ...       ...      ...     ...   \n",
      "861         0       2    male  21.0      1      0   11.5000        S  Second   \n",
      "862         1       1  female  48.0      0      0   25.9292        S   First   \n",
      "863         0       3  female   NaN      8      2   69.5500        S   Third   \n",
      "864         0       2    male  24.0      0      0   13.0000        S  Second   \n",
      "865         1       2  female  42.0      0      0   13.0000        S  Second   \n",
      "866         1       2  female  27.0      1      0   13.8583        C  Second   \n",
      "867         0       1    male  31.0      0      0   50.4958        S   First   \n",
      "868         0       3    male   NaN      0      0    9.5000        S   Third   \n",
      "869         1       3    male   4.0      1      1   11.1333        S   Third   \n",
      "870         0       3    male  26.0      0      0    7.8958        S   Third   \n",
      "871         1       1  female  47.0      1      1   52.5542        S   First   \n",
      "872         0       1    male  33.0      0      0    5.0000        S   First   \n",
      "873         0       3    male  47.0      0      0    9.0000        S   Third   \n",
      "874         1       2  female  28.0      1      0   24.0000        C  Second   \n",
      "875         1       3  female  15.0      0      0    7.2250        C   Third   \n",
      "876         0       3    male  20.0      0      0    9.8458        S   Third   \n",
      "877         0       3    male  19.0      0      0    7.8958        S   Third   \n",
      "878         0       3    male   NaN      0      0    7.8958        S   Third   \n",
      "879         1       1  female  56.0      0      1   83.1583        C   First   \n",
      "880         1       2  female  25.0      0      1   26.0000        S  Second   \n",
      "881         0       3    male  33.0      0      0    7.8958        S   Third   \n",
      "882         0       3  female  22.0      0      0   10.5167        S   Third   \n",
      "883         0       2    male  28.0      0      0   10.5000        S  Second   \n",
      "884         0       3    male  25.0      0      0    7.0500        S   Third   \n",
      "885         0       3  female  39.0      0      5   29.1250        Q   Third   \n",
      "886         0       2    male  27.0      0      0   13.0000        S  Second   \n",
      "887         1       1  female  19.0      0      0   30.0000        S   First   \n",
      "888         0       3  female   NaN      1      2   23.4500        S   Third   \n",
      "889         1       1    male  26.0      0      0   30.0000        C   First   \n",
      "890         0       3    male  32.0      0      0    7.7500        Q   Third   \n",
      "\n",
      "       who  adult_male deck  embark_town alive  alone  \n",
      "0      man        True  NaN  Southampton    no  False  \n",
      "1    woman       False    C    Cherbourg   yes  False  \n",
      "2    woman       False  NaN  Southampton   yes   True  \n",
      "3    woman       False    C  Southampton   yes  False  \n",
      "4      man        True  NaN  Southampton    no   True  \n",
      "5      man        True  NaN   Queenstown    no   True  \n",
      "6      man        True    E  Southampton    no   True  \n",
      "7    child       False  NaN  Southampton    no  False  \n",
      "8    woman       False  NaN  Southampton   yes  False  \n",
      "9    child       False  NaN    Cherbourg   yes  False  \n",
      "10   child       False    G  Southampton   yes  False  \n",
      "11   woman       False    C  Southampton   yes   True  \n",
      "12     man        True  NaN  Southampton    no   True  \n",
      "13     man        True  NaN  Southampton    no  False  \n",
      "14   child       False  NaN  Southampton    no   True  \n",
      "15   woman       False  NaN  Southampton   yes   True  \n",
      "16   child       False  NaN   Queenstown    no  False  \n",
      "17     man        True  NaN  Southampton   yes   True  \n",
      "18   woman       False  NaN  Southampton    no  False  \n",
      "19   woman       False  NaN    Cherbourg   yes   True  \n",
      "20     man        True  NaN  Southampton    no   True  \n",
      "21     man        True    D  Southampton   yes   True  \n",
      "22   child       False  NaN   Queenstown   yes   True  \n",
      "23     man        True    A  Southampton   yes   True  \n",
      "24   child       False  NaN  Southampton    no  False  \n",
      "25   woman       False  NaN  Southampton   yes  False  \n",
      "26     man        True  NaN    Cherbourg    no   True  \n",
      "27     man        True    C  Southampton    no  False  \n",
      "28   woman       False  NaN   Queenstown   yes   True  \n",
      "29     man        True  NaN  Southampton    no   True  \n",
      "..     ...         ...  ...          ...   ...    ...  \n",
      "861    man        True  NaN  Southampton    no  False  \n",
      "862  woman       False    D  Southampton   yes   True  \n",
      "863  woman       False  NaN  Southampton    no  False  \n",
      "864    man        True  NaN  Southampton    no   True  \n",
      "865  woman       False  NaN  Southampton   yes   True  \n",
      "866  woman       False  NaN    Cherbourg   yes  False  \n",
      "867    man        True    A  Southampton    no   True  \n",
      "868    man        True  NaN  Southampton    no   True  \n",
      "869  child       False  NaN  Southampton   yes  False  \n",
      "870    man        True  NaN  Southampton    no   True  \n",
      "871  woman       False    D  Southampton   yes  False  \n",
      "872    man        True    B  Southampton    no   True  \n",
      "873    man        True  NaN  Southampton    no   True  \n",
      "874  woman       False  NaN    Cherbourg   yes  False  \n",
      "875  child       False  NaN    Cherbourg   yes   True  \n",
      "876    man        True  NaN  Southampton    no   True  \n",
      "877    man        True  NaN  Southampton    no   True  \n",
      "878    man        True  NaN  Southampton    no   True  \n",
      "879  woman       False    C    Cherbourg   yes  False  \n",
      "880  woman       False  NaN  Southampton   yes  False  \n",
      "881    man        True  NaN  Southampton    no   True  \n",
      "882  woman       False  NaN  Southampton    no   True  \n",
      "883    man        True  NaN  Southampton    no   True  \n",
      "884    man        True  NaN  Southampton    no   True  \n",
      "885  woman       False  NaN   Queenstown    no  False  \n",
      "886    man        True  NaN  Southampton    no   True  \n",
      "887  woman       False    B  Southampton   yes   True  \n",
      "888  woman       False  NaN  Southampton    no  False  \n",
      "889    man        True    C    Cherbourg   yes   True  \n",
      "890    man        True  NaN   Queenstown    no   True  \n",
      "\n",
      "[891 rows x 15 columns]\n"
     ]
    },
    {
     "name": "stderr",
     "output_type": "stream",
     "text": [
      "/usr/local/lib/python3.7/site-packages/scipy/stats/stats.py:1713: FutureWarning: Using a non-tuple sequence for multidimensional indexing is deprecated; use `arr[tuple(seq)]` instead of `arr[seq]`. In the future this will be interpreted as an array index, `arr[np.array(seq)]`, which will result either in an error or a different result.\n",
      "  return np.add.reduce(sorted[indexer] * weights, axis=axis) / sumval\n"
     ]
    },
    {
     "data": {
      "text/plain": [
       "<seaborn.axisgrid.FacetGrid at 0x114cffdd8>"
      ]
     },
     "execution_count": 13,
     "metadata": {},
     "output_type": "execute_result"
    },
    {
     "data": {
      "image/png": "[encoded data removed]",
      "text/plain": [
       "<Figure size 504.85x432 with 1 Axes>"
      ]
     },
     "metadata": {},
     "output_type": "display_data"
    }
   ],
   "source": [
    "\"\"\"\n",
    "Grouped barplots\n",
    "================\n",
    "\n",
    "_thumb: .45, .5\n",
    "\"\"\"\n",
    "import seaborn as sns\n",
    "import pandas as pd\n",
    "sns.set(style=\"whitegrid\")\n",
    "\n",
    "# Load the example Titanic dataset\n",
    "titanic = sns.load_dataset(\"titanic\")\n",
    "\n",
    "print(titanic)\n",
    "\n",
    "# Draw a nested barplot to show survival for class and sex\n",
    "g = sns.catplot(x=\"class\", y=\"survived\", hue=\"sex\", data=titanic,\n",
    "                height=6, kind=\"bar\", palette=\"muted\")\n",
    "g.despine(left=True)\n",
    "g.set_ylabels(\"survival probability\")\n"
   ]
  },
  {
   "cell_type": "code",
   "execution_count": 30,
   "metadata": {},
   "outputs": [
    {
     "data": {
      "text/plain": [
       "<seaborn.axisgrid.FacetGrid at 0x117669c50>"
      ]
     },
     "execution_count": 30,
     "metadata": {},
     "output_type": "execute_result"
    },
    {
     "data": {
      "image/png": "[encoded data removed]",
      "text/plain": [
       "<Figure size 424.98x360 with 1 Axes>"
      ]
     },
     "metadata": {},
     "output_type": "display_data"
    }
   ],
   "source": [
    "# Load dataset\n",
    "example = pd.read_csv('../../data/grouped_bar_plot.csv')\n",
    "\n",
    "#Scaling font size\n",
    "sns.set(font_scale=1.3, style=\"whitegrid\")\n",
    "\n",
    "g = sns.catplot(x=\"Class\", y=\"Value\", hue =\"Gender\", data=example,\n",
    "               height=5, kind=\"bar\", palette=\"muted\")\n",
    "g.despine(left=True)\n",
    "g.set_ylabels(\"Group bar plot\", fontsize=18)\n",
    "g.set_xlabels('Test class', fontsize=18)\n"
   ]
  },
  {
   "cell_type": "code",
   "execution_count": null,
   "metadata": {},
   "outputs": [],
   "source": []
  }
 ],
 "metadata": {
  "kernelspec": {
   "display_name": "Python 3",
   "language": "python",
   "name": "python3"
  },
  "language_info": {
   "codemirror_mode": {
    "name": "ipython",
    "version": 3
   },
   "file_extension": ".py",
   "mimetype": "text/x-python",
   "name": "python",
   "nbconvert_exporter": "python",
   "pygments_lexer": "ipython3",
   "version": "3.7.1"
  }
 },
 "nbformat": 4,
 "nbformat_minor": 2
}
