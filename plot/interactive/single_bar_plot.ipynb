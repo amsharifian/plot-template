{
 "cells": [
  {
   "cell_type": "code",
   "execution_count": 1,
   "metadata": {},
   "outputs": [],
   "source": [
    "# %matplotlib inline\n",
    "import sys\n",
    "sys.path.append('../../utils')\n",
    "import utils as u\n",
    "import math\n",
    "\n",
    "import pandas as pd\n",
    "import matplotlib.pyplot as plt\n",
    "import matplotlib as mpl\n",
    "import matplotlib\n",
    "import numpy as np\n",
    "from matplotlib.backends.backend_pdf import PdfPages\n",
    "from matplotlib.ticker import MultipleLocator\n",
    "from random import randint\n",
    "from matplotlib.backends.backend_pdf import PdfPages\n",
    "from matplotlib.backends.backend_pdf import PdfPages\n",
    "\n",
    "from palettable.colorbrewer.sequential import YlGnBu_5\n"
   ]
  },
  {
   "cell_type": "code",
   "execution_count": 23,
   "metadata": {},
   "outputs": [
    {
     "data": {
      "image/png": "[encoded data removed]",
      "text/plain": [
       "<Figure size 864x576 with 1 Axes>"
      ]
     },
     "metadata": {
      "needs_background": "light"
     },
     "output_type": "display_data"
    }
   ],
   "source": [
    "#Loading data\n",
    "\n",
    "color=['#edf8b1','#7fcdbb','#08519c']\n",
    "df = pd.read_csv('../../data/02-test.csv')\n",
    "\n",
    "fig, ax = plt.subplots(figsize=(12, 8))\n",
    "plt.xticks(rotation=90)\n",
    "\n",
    "\n",
    "plt.xlim(-0.5, 10)\n",
    "\n",
    "N = len(df['app'])\n",
    "ind = np.arange(N)\n",
    "width = 0.8\n",
    "\n",
    "\n",
    "# Instantiating the X bar\n",
    "# cbars = ax.bar(ind+0.8, df['mul'].values.tolist(), \\\n",
    "#                width, ecolor='k', color=u.getcolor(3), edgecolor='k');\n",
    "#cbars = ax.bar(ind+0.8, df['data'].values.tolist(), width, color=YlGnBu_5.hex_colors[4])\n",
    "cbars = ax.bar(ind+0.8, df['data'].values.tolist(), width, color=color[2], edgecolor='k')\n",
    "\n",
    "# Put limit on Y axis\n",
    "plt.ylim(0, 60)\n",
    "\n",
    "# Writing text on top of the bars\n",
    "c = 0\n",
    "ll = df['data'].values.tolist()\n",
    "for t in df['data']:\n",
    "    if(int(t) > 50):\n",
    "        ax.text(c+0.65, 62+0.2, str(int(t)), fontsize=18, rotation=0)\n",
    "    else:\n",
    "        ax.text(c+0.65, ll[c]+0.2, str(int(t)), fontsize=18, rotation=0)\n",
    "    c += 1\n",
    "\n",
    "# Set X label values\n",
    "ax.set_ylabel('Y LABEL',fontsize=32, color='black')\n",
    "ax.set_xticks(ind+0.8);\n",
    "\n",
    "# Put the labels from 'app' coulmn\n",
    "ax.set_xticklabels(u.rename(df['app']))\n",
    "ax.set_facecolor('whitesmoke')\n",
    "\n",
    "plt.grid(linestyle='--', which='major')\n",
    "plt.gca().xaxis.grid(False)\n",
    "plt.gca().yaxis.grid(True, which='major', color='darkgray')\n",
    "\n",
    "plt.tick_params( axis='x', which='both', bottom=False, top=False, colors='black')\n",
    "plt.tick_params( axis='y', which='both', right=False, colors='black' )\n",
    "plt.tick_params(axis='both', which='major', direction='in', \n",
    "                length=6, width=3,color='black', labelsize=28)\n",
    "\n",
    "ax.set_axisbelow(True)\n",
    "ax.spines['bottom'].set_color('gray')\n",
    "ax.spines['top'].set_color('gray')\n",
    "ax.spines['right'].set_color('gray')\n",
    "ax.spines['left'].set_color('gray')\n",
    "\n",
    "# Saving the plot\n",
    "# fig.savefig('test.pdf',\n",
    "#             facecolor=fig.get_facecolor(), bbox_inches='tight')"
   ]
  },
  {
   "cell_type": "code",
   "execution_count": null,
   "metadata": {},
   "outputs": [],
   "source": []
  }
 ],
 "metadata": {
  "kernelspec": {
   "display_name": "Python 3",
   "language": "python",
   "name": "python3"
  },
  "language_info": {
   "codemirror_mode": {
    "name": "ipython",
    "version": 3
   },
   "file_extension": ".py",
   "mimetype": "text/x-python",
   "name": "python",
   "nbconvert_exporter": "python",
   "pygments_lexer": "ipython3",
   "version": "3.7.3"
  }
 },
 "nbformat": 4,
 "nbformat_minor": 2
}
